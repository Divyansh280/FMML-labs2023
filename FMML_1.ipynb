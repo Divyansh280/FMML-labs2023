{
  "nbformat": 4,
  "nbformat_minor": 0,
  "metadata": {
    "colab": {
      "provenance": [],
      "authorship_tag": "ABX9TyMYL/yf8lkphWeMxY62WUcP",
      "include_colab_link": true
    },
    "kernelspec": {
      "name": "python3",
      "display_name": "Python 3"
    },
    "language_info": {
      "name": "python"
    }
  },
  "cells": [
    {
      "cell_type": "markdown",
      "metadata": {
        "id": "view-in-github",
        "colab_type": "text"
      },
      "source": [
        "<a href=\"https://colab.research.google.com/github/Divyansh280/FMML-labs2023/blob/main/FMML_1.ipynb\" target=\"_parent\"><img src=\"https://colab.research.google.com/assets/colab-badge.svg\" alt=\"Open In Colab\"/></a>"
      ]
    },
    {
      "cell_type": "code",
      "execution_count": 1,
      "metadata": {
        "id": "PSLpIhNsZV7c"
      },
      "outputs": [],
      "source": [
        "#Question 0: write down 3-5 methods applicable to each data type."
      ]
    },
    {
      "cell_type": "code",
      "source": [
        "#1: int\n",
        "\n",
        "a = 5\n",
        "print(a)\n",
        "print(type(a))\n",
        "a += 5\n",
        "b = int()\n",
        "print(\"B type is:\", type(b))"
      ],
      "metadata": {
        "colab": {
          "base_uri": "https://localhost:8080/"
        },
        "id": "A-LEFHaHZ7tg",
        "outputId": "a68d81be-f89d-432e-c544-9cdacb60a59d"
      },
      "execution_count": 4,
      "outputs": [
        {
          "output_type": "stream",
          "name": "stdout",
          "text": [
            "5\n",
            "<class 'int'>\n",
            "B type is: <class 'int'>\n"
          ]
        }
      ]
    },
    {
      "cell_type": "code",
      "source": [
        "#2: dictionary\n",
        "\n",
        "dict1 = { \"1\" : \"A\", \"2\" : \"B\", \"3\" : \"C\"}\n",
        "dict1.update({\"4\" : \"D\"})\n",
        "print(dict1.get(\"4\"))\n",
        "print(dict1)\n",
        "print(type(dict1))\n",
        "dict1.pop(\"3\")\n",
        "print(dict1)"
      ],
      "metadata": {
        "colab": {
          "base_uri": "https://localhost:8080/"
        },
        "id": "DIBDOFssa14d",
        "outputId": "c810c09d-96cf-47a4-c131-86333cbbd536"
      },
      "execution_count": 5,
      "outputs": [
        {
          "output_type": "stream",
          "name": "stdout",
          "text": [
            "D\n",
            "{'1': 'A', '2': 'B', '3': 'C', '4': 'D'}\n",
            "<class 'dict'>\n",
            "{'1': 'A', '2': 'B', '4': 'D'}\n"
          ]
        }
      ]
    },
    {
      "cell_type": "code",
      "source": [
        "#3: Set\n",
        "\n",
        "set1 = set()\n",
        "set1.add(1)\n",
        "set1.add(2)\n",
        "set1.add(3)\n",
        "print(set1)\n",
        "set1.add(2)\n",
        "print(set1)\n",
        "set1.discard(2)\n",
        "print(set1)\n",
        "\n",
        "set2 = set()\n",
        "print(set1.issuperset(set2))\n",
        "set1.pop()\n",
        "\n",
        "print(set1, set2)"
      ],
      "metadata": {
        "colab": {
          "base_uri": "https://localhost:8080/"
        },
        "id": "sHFSq6ata_Zs",
        "outputId": "aa152783-e6cf-4333-b36f-f01e4c18d030"
      },
      "execution_count": 7,
      "outputs": [
        {
          "output_type": "stream",
          "name": "stdout",
          "text": [
            "{1, 2, 3}\n",
            "{1, 2, 3}\n",
            "{1, 3}\n",
            "True\n",
            "{3} set()\n"
          ]
        }
      ]
    },
    {
      "cell_type": "code",
      "source": [
        "#4: String\n",
        "\n",
        "str1 = str()\n",
        "str1 += \"abcdefghcdcd\"\n",
        "str1 = str1.upper()\n",
        "print(str1)\n",
        "str1 = str1.capitalize()\n",
        "print(str1.count(\"C\"))\n",
        "print(str1.swapcase())"
      ],
      "metadata": {
        "colab": {
          "base_uri": "https://localhost:8080/"
        },
        "id": "Aj-pkUhhcVJ7",
        "outputId": "dfd3d353-d54e-41c8-ca37-bbb6ff0f04a4"
      },
      "execution_count": 14,
      "outputs": [
        {
          "output_type": "stream",
          "name": "stdout",
          "text": [
            "ABCDEFGHCDCD\n",
            "0\n",
            "aBCDEFGHCDCD\n"
          ]
        }
      ]
    },
    {
      "cell_type": "code",
      "source": [
        "#5: List\n",
        "\n",
        "li = []\n",
        "li.append(5)\n",
        "li.pop()\n",
        "li.append(10)\n",
        "li.append(8)\n",
        "print(type(li))\n",
        "print(len(li))\n",
        "print(li)\n",
        "li.sort()\n",
        "print(li)\n",
        "li.clear()"
      ],
      "metadata": {
        "colab": {
          "base_uri": "https://localhost:8080/"
        },
        "id": "BQW4Z2Moe6G4",
        "outputId": "d767f6a7-7f7a-4bd3-c811-0705340aaee7"
      },
      "execution_count": 16,
      "outputs": [
        {
          "output_type": "stream",
          "name": "stdout",
          "text": [
            "<class 'list'>\n",
            "2\n",
            "[10, 8]\n",
            "[8, 10]\n"
          ]
        }
      ]
    },
    {
      "cell_type": "code",
      "source": [
        "#6: Tuple\n",
        "\n",
        "Tup = ('python', 'geek', 'python', 'for', 'java', 'python')\n",
        "print(Tup.index(\"geek\"))\n",
        "print(Tup.count(\"python\"))\n",
        "print(len(Tup))"
      ],
      "metadata": {
        "colab": {
          "base_uri": "https://localhost:8080/"
        },
        "id": "Hpj-ecjRgzI7",
        "outputId": "b8deba91-94cf-446e-fc9b-cfb113819ec7"
      },
      "execution_count": 19,
      "outputs": [
        {
          "output_type": "stream",
          "name": "stdout",
          "text": [
            "1\n",
            "3\n",
            "6\n"
          ]
        }
      ]
    },
    {
      "cell_type": "code",
      "source": [
        "#Question-1: Reverse a string\n",
        "def func(a,b):\n",
        "  a = a[::-1]\n",
        "  b += a\n",
        "  return b\n",
        "\n",
        "a = \"example1\"\n",
        "b = \"example2\"\n",
        "print(func(a,b))\n"
      ],
      "metadata": {
        "colab": {
          "base_uri": "https://localhost:8080/"
        },
        "id": "Du3M3r78h3oI",
        "outputId": "e7cf0b46-2acb-4e16-c5a9-635c32bcbfff"
      },
      "execution_count": 20,
      "outputs": [
        {
          "output_type": "stream",
          "name": "stdout",
          "text": [
            "example21elpmaxe\n"
          ]
        }
      ]
    },
    {
      "cell_type": "code",
      "source": [
        "#Question-2: List task\n",
        "\n",
        "work_hours = [('Abby',100 , 'F'),('Billy',400, 'M'),('Cassie',800,'F'),\n",
        "              ('Maggi',600,'F'),('Alex',500,'M'),('Raj',225,'M'),\n",
        "               ('Penny',920,'F'),('Ben',300,'M')]\n",
        "def find_highest_paid_female_worker(work_hours):\n",
        "    max_hours = 0\n",
        "    highest_paid_female = None\n",
        "\n",
        "    for name, hours, gender in work_hours:\n",
        "        if gender == 'F' and hours > max_hours:\n",
        "            max_hours = hours\n",
        "            highest_paid_female = name\n",
        "\n",
        "    if highest_paid_female:\n",
        "        pay = max_hours * 20\n",
        "        print(f\"The female worker is {highest_paid_female} with {max_hours} hours worked.\")\n",
        "        print(f\"She should be paid ${pay}.\")\n",
        "    else:\n",
        "        print(\"No female worker found in the list.\")\n",
        "\n",
        "find_highest_paid_female_worker(work_hours)"
      ],
      "metadata": {
        "colab": {
          "base_uri": "https://localhost:8080/"
        },
        "id": "2rJ-UmUFiof4",
        "outputId": "0b32517e-0125-4147-d00f-fbe553b0003c"
      },
      "execution_count": 22,
      "outputs": [
        {
          "output_type": "stream",
          "name": "stdout",
          "text": [
            "The female worker is Penny with 920 hours worked.\n",
            "She should be paid $18400.\n"
          ]
        }
      ]
    },
    {
      "cell_type": "code",
      "source": [
        "#Question-3: Matrix question\n",
        "\n",
        "import numpy as np\n",
        "arr1 = [1,1,1]\n",
        "arr2 = [2,2,2]\n",
        "arr3 = [3,3,3]\n",
        "mat = np.vstack((arr1,arr2,arr3))\n",
        "print(mat)\n",
        "\n",
        "A = np.array([[6, 1, 1],\n",
        "              [4, -2, 5],\n",
        "              [2, 8, 7]])\n",
        "\n",
        "# Calculating the inverse of the matrix\n",
        "mat1 = np.linalg.inv(A)\n"
      ],
      "metadata": {
        "colab": {
          "base_uri": "https://localhost:8080/"
        },
        "id": "1bsFjP3pkhKe",
        "outputId": "b87538ad-1ad0-41c3-c9f5-f13ff953273a"
      },
      "execution_count": 38,
      "outputs": [
        {
          "output_type": "stream",
          "name": "stdout",
          "text": [
            "[[1 1 1]\n",
            " [2 2 2]\n",
            " [3 3 3]]\n"
          ]
        }
      ]
    },
    {
      "cell_type": "code",
      "source": [
        "prod = np.dot(mat,mat1)\n",
        "print(prod)\n",
        "print(np.size(prod))\n",
        "print(np.shape(prod))"
      ],
      "metadata": {
        "colab": {
          "base_uri": "https://localhost:8080/"
        },
        "id": "4twBLJLXr9mK",
        "outputId": "dfd71096-8ce6-4fe8-9566-95fa264fdad6"
      },
      "execution_count": 39,
      "outputs": [
        {
          "output_type": "stream",
          "name": "stdout",
          "text": [
            "[[0.11764706 0.01633987 0.11437908]\n",
            " [0.23529412 0.03267974 0.22875817]\n",
            " [0.35294118 0.04901961 0.34313725]]\n",
            "9\n",
            "(3, 3)\n"
          ]
        }
      ]
    },
    {
      "cell_type": "code",
      "source": [],
      "metadata": {
        "id": "vstLiuBztgz7"
      },
      "execution_count": null,
      "outputs": []
    }
  ]
}